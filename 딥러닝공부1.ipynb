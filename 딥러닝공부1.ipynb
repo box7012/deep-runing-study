{
 "cells": [
  {
   "cell_type": "code",
   "execution_count": 2,
   "id": "f7512c18",
   "metadata": {},
   "outputs": [],
   "source": [
    "#이유는 모르겠는데 아래 코드를 실행시키면 오류가 발생!\n",
    "'''\n",
    "from IPython.core.interactiveshell import InteractiveShell\n",
    "InteractiveShell.ast_node_interactivity = all\n",
    "'''"
   ]
  },
  {
   "cell_type": "code",
   "execution_count": 3,
   "id": "5fd9b345",
   "metadata": {},
   "outputs": [],
   "source": [
    "from tensorflow.keras.datasets import mnist\n",
    "(train_images, train_labels), (test_images, test_labels) = mnist.load_data()"
   ]
  },
  {
   "cell_type": "code",
   "execution_count": 10,
   "id": "299aa201",
   "metadata": {},
   "outputs": [],
   "source": [
    "from tensorflow import keras\n",
    "from tensorflow.keras import layers\n",
    "\n",
    "model = keras.Sequential([\n",
    "    layers.Dense(512, activation='relu'),\n",
    "    layers.Dense(10, activation='softmax')\n",
    "])"
   ]
  },
  {
   "cell_type": "code",
   "execution_count": 11,
   "id": "6f380b41",
   "metadata": {},
   "outputs": [],
   "source": [
    "model.compile(optimizer=\"rmsprop\",\n",
    "              loss=\"sparse_categorical_crossentropy\",\n",
    "              metrics=[\"accuracy\"])"
   ]
  },
  {
   "cell_type": "code",
   "execution_count": 16,
   "id": "07c82128",
   "metadata": {},
   "outputs": [],
   "source": [
    "train_images = train_images.reshape((60000,28*28))\n",
    "train_images = train_images.astype('float32') / 255\n",
    "test_images = test_images.reshape((10000, 28*28))\n",
    "test_images = test_images.astype('float32') / 255\n",
    "\n",
    "# 원래 데이터 타입이었던 uint8의 경우 0 ~ 255 사이의 정수\n",
    "# 0 ~ 1로 스케일링 할경우 소수를 표현할 수 있어야하고, 적당한 데이터 타입이 float16이상"
   ]
  },
  {
   "cell_type": "markdown",
   "id": "57809c07",
   "metadata": {},
   "source": [
    "*정수형 자료형*\n",
    "int8  => 2^8개의 정수표현 가능 \n",
    "int16 => 2^16개의 정수표현 가능\n",
    "int32 => 2^32개의 정수표현 가능.\n",
    "int64 => 2^64개의 정수표현 가능. \n",
    "\n",
    "*부호없는 정수형 자료형*\n",
    "uint8 => 2^8개의 부호없는 정수표현 가능.\n",
    "uint16 => 2^16개의 부호없는 정수표현 가능.\n",
    "uint32 => 2^32개의 부호없는 정수표현 가능.\n",
    "uint64 => 2^64개의 부호없는 정수표현 가능.\n",
    "\n",
    "*실수형 자료형*\n",
    "float16 => 1비트 부호, 5비트 정수, 10비트 소수 \n",
    "float32 => 1비트 부호, 8비트 정수, 23비트 소수\n",
    "float64 => 1비트 부호, 11비트 정수, 52비트 소수 "
   ]
  },
  {
   "cell_type": "code",
   "execution_count": 19,
   "id": "92d4a536",
   "metadata": {},
   "outputs": [
    {
     "name": "stdout",
     "output_type": "stream",
     "text": [
      "Epoch 1/5\n",
      "469/469 [==============================] - 2s 3ms/step - loss: 0.2524 - accuracy: 0.9262\n",
      "Epoch 2/5\n",
      "469/469 [==============================] - 2s 3ms/step - loss: 0.1040 - accuracy: 0.9692\n",
      "Epoch 3/5\n",
      "469/469 [==============================] - 2s 3ms/step - loss: 0.0690 - accuracy: 0.9789\n",
      "Epoch 4/5\n",
      "469/469 [==============================] - 2s 3ms/step - loss: 0.0502 - accuracy: 0.9847\n",
      "Epoch 5/5\n",
      "469/469 [==============================] - 2s 3ms/step - loss: 0.0380 - accuracy: 0.9887\n"
     ]
    },
    {
     "data": {
      "text/plain": [
       "<keras.callbacks.History at 0x25439623be0>"
      ]
     },
     "execution_count": 19,
     "metadata": {},
     "output_type": "execute_result"
    }
   ],
   "source": [
    "model.fit(train_images, train_labels, epochs = 5, batch_size = 128)\n",
    "#epochs : 학습횟수\n",
    "#batch_size : 몇 개까지 예측하고 레이블 값과 확인후 가중치 업데이트 할지.. 크면 용량 많이 필요, 작으면 촘촘하지만 시간이 오래걸림"
   ]
  },
  {
   "cell_type": "code",
   "execution_count": 20,
   "id": "663a82bb",
   "metadata": {},
   "outputs": [
    {
     "name": "stdout",
     "output_type": "stream",
     "text": [
      "1/1 [==============================] - 0s 47ms/step\n"
     ]
    },
    {
     "data": {
      "text/plain": [
       "array([5.0123155e-09, 3.8443124e-10, 1.6312531e-06, 5.4618799e-06,\n",
       "       1.5793349e-13, 2.0299267e-09, 1.4551147e-14, 9.9999261e-01,\n",
       "       5.0650768e-09, 2.0000897e-07], dtype=float32)"
      ]
     },
     "execution_count": 20,
     "metadata": {},
     "output_type": "execute_result"
    }
   ],
   "source": [
    "test_digits = test_images[0:10]\n",
    "predictions = model.predict(test_digits)\n",
    "predictions[0]"
   ]
  },
  {
   "cell_type": "code",
   "execution_count": 21,
   "id": "86d2f408",
   "metadata": {},
   "outputs": [
    {
     "data": {
      "text/plain": [
       "7"
      ]
     },
     "execution_count": 21,
     "metadata": {},
     "output_type": "execute_result"
    }
   ],
   "source": [
    "predictions[0].argmax()\n",
    "# argmax() : 최댓값의 인덱스 반환\n",
    "# argmin() : 최솟값의 인덱스 반환"
   ]
  },
  {
   "cell_type": "code",
   "execution_count": 22,
   "id": "b5b22fd9",
   "metadata": {},
   "outputs": [
    {
     "data": {
      "text/plain": [
       "0.9999926"
      ]
     },
     "execution_count": 22,
     "metadata": {},
     "output_type": "execute_result"
    }
   ],
   "source": [
    "predictions[0][7]"
   ]
  },
  {
   "cell_type": "code",
   "execution_count": 23,
   "id": "9691b1dd",
   "metadata": {},
   "outputs": [
    {
     "name": "stdout",
     "output_type": "stream",
     "text": [
      "313/313 [==============================] - 0s 603us/step - loss: 0.0715 - accuracy: 0.9787\n",
      "테스트 정확도:0.9786999821662903\n"
     ]
    }
   ],
   "source": [
    "test_loss, test_acc = model.evaluate(test_images, test_labels)\n",
    "print(f\"테스트 정확도:{test_acc}\")"
   ]
  },
  {
   "cell_type": "code",
   "execution_count": null,
   "id": "48b211c3",
   "metadata": {},
   "outputs": [],
   "source": []
  }
 ],
 "metadata": {
  "kernelspec": {
   "display_name": "Python 3 (ipykernel)",
   "language": "python",
   "name": "python3"
  },
  "language_info": {
   "codemirror_mode": {
    "name": "ipython",
    "version": 3
   },
   "file_extension": ".py",
   "mimetype": "text/x-python",
   "name": "python",
   "nbconvert_exporter": "python",
   "pygments_lexer": "ipython3",
   "version": "3.9.13"
  }
 },
 "nbformat": 4,
 "nbformat_minor": 5
}
