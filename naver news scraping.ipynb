{
 "cells": [
  {
   "cell_type": "markdown",
   "metadata": {},
   "source": [
    "#### bs4, requests 모듈을 사용한 네이버 뉴스 스크래핑"
   ]
  },
  {
   "cell_type": "code",
   "execution_count": 8,
   "metadata": {},
   "outputs": [],
   "source": [
    "import requests\n",
    "from bs4 import BeautifulSoup\n",
    "import pandas as pd"
   ]
  },
  {
   "cell_type": "code",
   "execution_count": 9,
   "metadata": {},
   "outputs": [],
   "source": [
    "headers = {\"User-Agent\": \"Mozilla/5.0 (Windows NT 10.0; Win64; x64) AppleWebKit/537.36 (KHTML, like Gecko) Chrome/107.0.0.0 Safari/537.36\"}\n",
    "\n",
    "response = requests.get(\"https://news.naver.com/main/main.naver?mode=LSD&mid=shm&sid1=102\", headers = headers)"
   ]
  },
  {
   "cell_type": "markdown",
   "metadata": {},
   "source": [
    "#### 주소 마지막 부분에 있는 sid=102에서\n",
    "- 100 : 정치\n",
    "- 101 : 경제\n",
    "- 102 : 사회\n",
    "- 103 : 생활/문화\n",
    "- 104 : 세계\n",
    "- 105 : IT/과학"
   ]
  },
  {
   "cell_type": "code",
   "execution_count": 7,
   "metadata": {},
   "outputs": [],
   "source": [
    "soup = BeautifulSoup(response.text, \"html.parser\")"
   ]
  },
  {
   "cell_type": "code",
   "execution_count": 12,
   "metadata": {},
   "outputs": [],
   "source": [
    "section = {\"정치\":100,\n",
    "           \"경제\":101, \n",
    "           \"사회\":102, \n",
    "           \"문화\":103, \n",
    "           \"세계\":104, \n",
    "           \"과학\":105}\n",
    "\n",
    "base_url = \"https://news.naver.com/main/main.naver?mode=LSD&mid=shm&sid1=\""
   ]
  },
  {
   "cell_type": "code",
   "execution_count": 13,
   "metadata": {},
   "outputs": [],
   "source": [
    "headers = {\"User-Agent\": \"Mozilla/5.0\"}\n",
    "\n",
    "for k in range(len(section)):\n",
    "    response = requests.get(base_url+str(list(section.values())[k]), headers = headers)\n",
    "    #섹션을 바꾸기!\n",
    "    \n",
    "    soup = BeautifulSoup(response.text, \"html.parser\")\n",
    "    # 헤드라인 기사들!\n",
    "    big_size_title = []\n",
    "    for i in range(1,5):\n",
    "        big_size_title += soup.select(\"div.cluster_body > ul > li:nth-child({}) > div.cluster_text > a\".format(i))\n",
    "\n",
    "    big_size_titles = []\n",
    "    big_size_links = []\n",
    "    \n",
    "    for title in big_size_title:\n",
    "        big_size_links.append(title.attrs[\"href\"])\n",
    "        big_size_titles.append(title.text)\n",
    "\n",
    "    globals()[\"{}_article\".format(list(section.keys())[k])] = pd.DataFrame({\"기사 제목\":big_size_titles, \"링크\":big_size_links}, index=range(1,len(big_size_titles)+1))\n",
    "    #전역변수 선언..                        "
   ]
  },
  {
   "cell_type": "code",
   "execution_count": null,
   "metadata": {},
   "outputs": [],
   "source": []
  }
 ],
 "metadata": {
  "kernelspec": {
   "display_name": "Python 3.9.13 ('base')",
   "language": "python",
   "name": "python3"
  },
  "language_info": {
   "codemirror_mode": {
    "name": "ipython",
    "version": 3
   },
   "file_extension": ".py",
   "mimetype": "text/x-python",
   "name": "python",
   "nbconvert_exporter": "python",
   "pygments_lexer": "ipython3",
   "version": "3.9.13"
  },
  "orig_nbformat": 4,
  "vscode": {
   "interpreter": {
    "hash": "e6015256d3a7a5042a396c6197a10933dd6aa738f2a46448e07d72b373bc4861"
   }
  }
 },
 "nbformat": 4,
 "nbformat_minor": 2
}
